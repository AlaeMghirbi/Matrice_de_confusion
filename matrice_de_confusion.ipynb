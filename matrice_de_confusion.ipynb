{
  "nbformat": 4,
  "nbformat_minor": 0,
  "metadata": {
    "colab": {
      "provenance": []
    },
    "kernelspec": {
      "name": "python3",
      "display_name": "Python 3"
    },
    "language_info": {
      "name": "python"
    }
  },
  "cells": [
    {
      "cell_type": "markdown",
      "source": [
        "# Création d'une matrice de confusion:\n",
        "on va utiliser un modéle probabiliste avec probablilité de succés =1 --> on dot avoit 90% accuracy pour les péduction de valeur 1"
      ],
      "metadata": {
        "id": "lPQ5O2QZxeLh"
      }
    },
    {
      "cell_type": "code",
      "source": [
        "import numpy"
      ],
      "metadata": {
        "id": "z6N3EWvYxbTP"
      },
      "execution_count": 1,
      "outputs": []
    },
    {
      "cell_type": "code",
      "source": [
        "#choisir des valeur arbitraire pour les valeurs attendus + valeurs de prédiction\n",
        "#modele de probabilité binomiale avec 0,9: probabilité de succée pour 1000 échantillants\n",
        "actual = numpy.random.binomial(1, 0.9, size = 1000)\n",
        "predicted = numpy.random.binomial(1, 0.9, size = 1000)"
      ],
      "metadata": {
        "id": "vbl_Ai-IxwdE"
      },
      "execution_count": 2,
      "outputs": []
    },
    {
      "cell_type": "code",
      "source": [
        "from sklearn import metrics"
      ],
      "metadata": {
        "id": "cWL1hgYYyNGN"
      },
      "execution_count": 3,
      "outputs": []
    },
    {
      "cell_type": "code",
      "source": [
        "confusion_matrix = metrics.confusion_matrix(actual, predicted)\n",
        "#creation de display pour la matrice\n",
        "# le paramètre display_labels correspond aux étiquettes des classes (ou catégories)\n",
        "cm_display = metrics.ConfusionMatrixDisplay(confusion_matrix = confusion_matrix,  display_labels = [0, 1])"
      ],
      "metadata": {
        "id": "u2ZxH2fByTaJ"
      },
      "execution_count": 4,
      "outputs": []
    },
    {
      "cell_type": "markdown",
      "source": [
        "**Visualisation**"
      ],
      "metadata": {
        "id": "YEVsX0Ydzyhw"
      }
    },
    {
      "cell_type": "code",
      "source": [
        "import matplotlib.pyplot as plt"
      ],
      "metadata": {
        "id": "vjkvP6Aoz6dE"
      },
      "execution_count": 5,
      "outputs": []
    },
    {
      "cell_type": "code",
      "source": [
        "cm_display.plot()\n",
        "plt.show()"
      ],
      "metadata": {
        "colab": {
          "base_uri": "https://localhost:8080/",
          "height": 449
        },
        "id": "frqGLyeG0E09",
        "outputId": "0882a3d1-592f-44f1-8342-19e37a9787e4"
      },
      "execution_count": 6,
      "outputs": [
        {
          "output_type": "display_data",
          "data": {
            "text/plain": [
              "<Figure size 640x480 with 2 Axes>"
            ],
            "image/png": "[encoded data removed]"
          },
          "metadata": {}
        }
      ]
    },
    {
      "cell_type": "markdown",
      "source": [
        "#Results Explained\n",
        "The Confusion Matrix created has four different quadrants:\n",
        "\n",
        "**True Negative** (Top-Left Quadrant)\n",
        "\n",
        "**False Positive** (Top-Right Quadrant)\n",
        "\n",
        "**False Negative** (Bottom-Left Quadrant)\n",
        "\n",
        "**True Positive** (Bottom-Right Quadrant)\n",
        "\n",
        "True means that the values were accurately predicted, False means that there was an error or wrong prediction.\n",
        "\n",
        "Now that we have made a Confusion Matrix, we can calculate different measures to quantify the quality of the model. First, lets look at Accuracy."
      ],
      "metadata": {
        "id": "EadAcp2V1Igz"
      }
    },
    {
      "cell_type": "markdown",
      "source": [
        "#Created Metrics\n",
        "The matrix provides us with many useful metrics that help us to evaluate our classification model.\n",
        "\n",
        "The different measures include: Accuracy, Precision, Sensitivity (Recall), Specificity, and the F-score, explained below."
      ],
      "metadata": {
        "id": "qxlpkxtVq9iJ"
      }
    },
    {
      "cell_type": "markdown",
      "source": [
        "**Accuracy**\n",
        "\n",
        "Accuracy measures how often the model is correct.\n",
        "\n",
        "How to Calculate\n",
        "(True Positive + True Negative) / Total Predictions"
      ],
      "metadata": {
        "id": "KlqyiNN0rOfL"
      }
    },
    {
      "cell_type": "code",
      "source": [
        "Accuracy = metrics.accuracy_score(actual, predicted)\n",
        "print(Accuracy)"
      ],
      "metadata": {
        "colab": {
          "base_uri": "https://localhost:8080/"
        },
        "id": "azojO0OJrStE",
        "outputId": "57c721e0-7c9c-40dd-e6fe-85055f2e3ba1"
      },
      "execution_count": 8,
      "outputs": [
        {
          "output_type": "stream",
          "name": "stdout",
          "text": [
            "0.833\n"
          ]
        }
      ]
    },
    {
      "cell_type": "markdown",
      "source": [
        "**Precision**\n",
        "\n",
        "Of the positives predicted, what percentage is truly positive?\n",
        "\n",
        "How to Calculate\n",
        "True Positive / (True Positive + False Positive)"
      ],
      "metadata": {
        "id": "CNihii0MrmyX"
      }
    },
    {
      "cell_type": "code",
      "source": [
        "Precision=metrics.precision_score(actual, predicted)\n",
        "print(Precision)"
      ],
      "metadata": {
        "colab": {
          "base_uri": "https://localhost:8080/"
        },
        "id": "lw00fYgnrl2h",
        "outputId": "974edda1-f769-49a1-e3cc-df95a5095962"
      },
      "execution_count": 9,
      "outputs": [
        {
          "output_type": "stream",
          "name": "stdout",
          "text": [
            "0.898471615720524\n"
          ]
        }
      ]
    },
    {
      "cell_type": "markdown",
      "source": [
        "#Sensitivity (Recall)\n",
        "Of all the positive cases, what percentage are predicted positive?\n",
        "\n",
        "Sensitivity (sometimes called Recall) measures how good the model is at predicting positives.\n",
        "\n",
        "This means it looks at true positives and false negatives (which are positives that have been incorrectly predicted as negative).\n",
        "\n",
        "How to Calculate\n",
        "True Positive / (True Positive + False Negative)"
      ],
      "metadata": {
        "id": "oaof-VWVsdNS"
      }
    },
    {
      "cell_type": "code",
      "source": [
        "Sensitivity_recall = metrics.recall_score(actual, predicted)\n",
        "print(Sensitivity_recall)"
      ],
      "metadata": {
        "colab": {
          "base_uri": "https://localhost:8080/"
        },
        "id": "Oj0hbfPxwPBm",
        "outputId": "9276a209-e14b-4b9d-a518-e7a760d35b21"
      },
      "execution_count": 11,
      "outputs": [
        {
          "output_type": "stream",
          "name": "stdout",
          "text": [
            "0.9175027870680045\n"
          ]
        }
      ]
    },
    {
      "cell_type": "markdown",
      "source": [
        "**Specificity**\n",
        "\n",
        "How well the model is at prediciting negative results?\n",
        "\n",
        "Specificity is similar to sensitivity, but looks at it from the persepctive of negative results.\n",
        "\n",
        "How to Calculate\n",
        "True Negative / (True Negative + False Positive)"
      ],
      "metadata": {
        "id": "-yVcI7Rtw6R3"
      }
    },
    {
      "cell_type": "code",
      "source": [
        "#opposite de recall\n",
        "Specificity = metrics.recall_score(actual, predicted, pos_label=0)\n",
        "print(Specificity)"
      ],
      "metadata": {
        "colab": {
          "base_uri": "https://localhost:8080/"
        },
        "id": "x89DzTcfw9rB",
        "outputId": "385d082c-cf3d-4db6-ac78-af2f7fc955e6"
      },
      "execution_count": 12,
      "outputs": [
        {
          "output_type": "stream",
          "name": "stdout",
          "text": [
            "0.0970873786407767\n"
          ]
        }
      ]
    },
    {
      "cell_type": "markdown",
      "source": [
        "**F-score**\n",
        "\n",
        "F-score is the \"harmonic mean\" of precision and sensitivity.\n",
        "\n",
        "It considers both false positive and false negative cases and is good for imbalanced datasets.\n",
        "\n",
        "How to Calculate\n",
        "2 * ((Precision * Sensitivity) / (Precision + Sensitivity))"
      ],
      "metadata": {
        "id": "veLLZakh0MI1"
      }
    },
    {
      "cell_type": "code",
      "source": [
        "F1_score = metrics.f1_score(actual, predicted)"
      ],
      "metadata": {
        "id": "GiPzreHxxTj8"
      },
      "execution_count": 13,
      "outputs": []
    }
  ]
}